{
  "nbformat": 4,
  "nbformat_minor": 0,
  "metadata": {
    "colab": {
      "name": "Allianz_logo_detection.ipynb",
      "provenance": []
    },
    "kernelspec": {
      "name": "python3",
      "display_name": "Python 3"
    },
    "language_info": {
      "name": "python"
    },
    "gpuClass": "standard",
    "accelerator": "GPU"
  },
  "cells": [
    {
      "cell_type": "code",
      "execution_count": 4,
      "metadata": {
        "colab": {
          "base_uri": "https://localhost:8080/"
        },
        "id": "nzEnzWJAOb5x",
        "outputId": "c9bc70e2-ea24-42cd-c584-f235fcbf95fa"
      },
      "outputs": [
        {
          "output_type": "stream",
          "name": "stdout",
          "text": [
            "Cloning into 'object_detection_allianz_logo'...\n",
            "remote: Enumerating objects: 316, done.\u001b[K\n",
            "remote: Counting objects: 100% (316/316), done.\u001b[K\n",
            "remote: Compressing objects: 100% (255/255), done.\u001b[K\n",
            "remote: Total 316 (delta 26), reused 313 (delta 23), pack-reused 0\u001b[K\n",
            "Receiving objects: 100% (316/316), 26.93 MiB | 16.72 MiB/s, done.\n",
            "Resolving deltas: 100% (26/26), done.\n"
          ]
        }
      ],
      "source": [
        "!git clone https://github.com/rajendrac3/object_detection_allianz_logo.git"
      ]
    },
    {
      "cell_type": "code",
      "source": [
        "%cd object_detection_allianz_logo"
      ],
      "metadata": {
        "colab": {
          "base_uri": "https://localhost:8080/"
        },
        "id": "GcxS3CktOdz-",
        "outputId": "8477d115-6200-4326-ca58-3a1b732c6343"
      },
      "execution_count": 5,
      "outputs": [
        {
          "output_type": "stream",
          "name": "stdout",
          "text": [
            "/content/object_detection_allianz_logo/object_detection_allianz_logo\n"
          ]
        }
      ]
    },
    {
      "cell_type": "code",
      "source": [
        "!pip install -r requirements.txt"
      ],
      "metadata": {
        "colab": {
          "base_uri": "https://localhost:8080/"
        },
        "id": "--3ffqFROuzf",
        "outputId": "27746ab7-723d-49fa-9571-5bbc4c1bdb2c"
      },
      "execution_count": 6,
      "outputs": [
        {
          "output_type": "stream",
          "name": "stdout",
          "text": [
            "Looking in indexes: https://pypi.org/simple, https://us-python.pkg.dev/colab-wheels/public/simple/\n",
            "Requirement already satisfied: matplotlib>=3.2.2 in /usr/local/lib/python3.7/dist-packages (from -r requirements.txt (line 5)) (3.2.2)\n",
            "Requirement already satisfied: numpy>=1.18.5 in /usr/local/lib/python3.7/dist-packages (from -r requirements.txt (line 6)) (1.21.6)\n",
            "Requirement already satisfied: opencv-python>=4.1.1 in /usr/local/lib/python3.7/dist-packages (from -r requirements.txt (line 7)) (4.6.0.66)\n",
            "Requirement already satisfied: Pillow>=7.1.2 in /usr/local/lib/python3.7/dist-packages (from -r requirements.txt (line 8)) (7.1.2)\n",
            "Collecting PyYAML>=5.3.1\n",
            "  Using cached PyYAML-6.0-cp37-cp37m-manylinux_2_5_x86_64.manylinux1_x86_64.manylinux_2_12_x86_64.manylinux2010_x86_64.whl (596 kB)\n",
            "Requirement already satisfied: requests>=2.23.0 in /usr/local/lib/python3.7/dist-packages (from -r requirements.txt (line 10)) (2.23.0)\n",
            "Requirement already satisfied: scipy>=1.4.1 in /usr/local/lib/python3.7/dist-packages (from -r requirements.txt (line 11)) (1.7.3)\n",
            "Requirement already satisfied: torch>=1.7.0 in /usr/local/lib/python3.7/dist-packages (from -r requirements.txt (line 12)) (1.12.0+cu113)\n",
            "Requirement already satisfied: torchvision>=0.8.1 in /usr/local/lib/python3.7/dist-packages (from -r requirements.txt (line 13)) (0.13.0+cu113)\n",
            "Requirement already satisfied: tqdm>=4.64.0 in /usr/local/lib/python3.7/dist-packages (from -r requirements.txt (line 14)) (4.64.0)\n",
            "Requirement already satisfied: protobuf<=3.20.1 in /usr/local/lib/python3.7/dist-packages (from -r requirements.txt (line 15)) (3.17.3)\n",
            "Collecting fastapi\n",
            "  Using cached fastapi-0.79.0-py3-none-any.whl (54 kB)\n",
            "Collecting uvicorn\n",
            "  Downloading uvicorn-0.18.2-py3-none-any.whl (57 kB)\n",
            "\u001b[K     |████████████████████████████████| 57 kB 4.9 MB/s \n",
            "\u001b[?25hCollecting python-multipart\n",
            "  Downloading python-multipart-0.0.5.tar.gz (32 kB)\n",
            "Collecting pyngrok\n",
            "  Downloading pyngrok-5.1.0.tar.gz (745 kB)\n",
            "\u001b[K     |████████████████████████████████| 745 kB 44.9 MB/s \n",
            "\u001b[?25hRequirement already satisfied: pandas>=1.1.4 in /usr/local/lib/python3.7/dist-packages (from -r requirements.txt (line 22)) (1.3.5)\n",
            "Requirement already satisfied: seaborn>=0.11.0 in /usr/local/lib/python3.7/dist-packages (from -r requirements.txt (line 23)) (0.11.2)\n",
            "Requirement already satisfied: python-dateutil>=2.1 in /usr/local/lib/python3.7/dist-packages (from matplotlib>=3.2.2->-r requirements.txt (line 5)) (2.8.2)\n",
            "Requirement already satisfied: pyparsing!=2.0.4,!=2.1.2,!=2.1.6,>=2.0.1 in /usr/local/lib/python3.7/dist-packages (from matplotlib>=3.2.2->-r requirements.txt (line 5)) (3.0.9)\n",
            "Requirement already satisfied: cycler>=0.10 in /usr/local/lib/python3.7/dist-packages (from matplotlib>=3.2.2->-r requirements.txt (line 5)) (0.11.0)\n",
            "Requirement already satisfied: kiwisolver>=1.0.1 in /usr/local/lib/python3.7/dist-packages (from matplotlib>=3.2.2->-r requirements.txt (line 5)) (1.4.4)\n",
            "Requirement already satisfied: chardet<4,>=3.0.2 in /usr/local/lib/python3.7/dist-packages (from requests>=2.23.0->-r requirements.txt (line 10)) (3.0.4)\n",
            "Requirement already satisfied: urllib3!=1.25.0,!=1.25.1,<1.26,>=1.21.1 in /usr/local/lib/python3.7/dist-packages (from requests>=2.23.0->-r requirements.txt (line 10)) (1.24.3)\n",
            "Requirement already satisfied: idna<3,>=2.5 in /usr/local/lib/python3.7/dist-packages (from requests>=2.23.0->-r requirements.txt (line 10)) (2.10)\n",
            "Requirement already satisfied: certifi>=2017.4.17 in /usr/local/lib/python3.7/dist-packages (from requests>=2.23.0->-r requirements.txt (line 10)) (2022.6.15)\n",
            "Requirement already satisfied: typing-extensions in /usr/local/lib/python3.7/dist-packages (from torch>=1.7.0->-r requirements.txt (line 12)) (4.1.1)\n",
            "Requirement already satisfied: six>=1.9 in /usr/local/lib/python3.7/dist-packages (from protobuf<=3.20.1->-r requirements.txt (line 15)) (1.15.0)\n",
            "Requirement already satisfied: pytz>=2017.3 in /usr/local/lib/python3.7/dist-packages (from pandas>=1.1.4->-r requirements.txt (line 22)) (2022.1)\n",
            "Collecting starlette==0.19.1\n",
            "  Downloading starlette-0.19.1-py3-none-any.whl (63 kB)\n",
            "\u001b[K     |████████████████████████████████| 63 kB 2.1 MB/s \n",
            "\u001b[?25hRequirement already satisfied: pydantic!=1.7,!=1.7.1,!=1.7.2,!=1.7.3,!=1.8,!=1.8.1,<2.0.0,>=1.6.2 in /usr/local/lib/python3.7/dist-packages (from fastapi->-r requirements.txt (line 16)) (1.9.1)\n",
            "Collecting anyio<5,>=3.4.0\n",
            "  Downloading anyio-3.6.1-py3-none-any.whl (80 kB)\n",
            "\u001b[K     |████████████████████████████████| 80 kB 9.3 MB/s \n",
            "\u001b[?25hCollecting sniffio>=1.1\n",
            "  Downloading sniffio-1.2.0-py3-none-any.whl (10 kB)\n",
            "Requirement already satisfied: click>=7.0 in /usr/local/lib/python3.7/dist-packages (from uvicorn->-r requirements.txt (line 17)) (7.1.2)\n",
            "Collecting h11>=0.8\n",
            "  Downloading h11-0.13.0-py3-none-any.whl (58 kB)\n",
            "\u001b[K     |████████████████████████████████| 58 kB 6.0 MB/s \n",
            "\u001b[?25hBuilding wheels for collected packages: python-multipart, pyngrok\n",
            "  Building wheel for python-multipart (setup.py) ... \u001b[?25l\u001b[?25hdone\n",
            "  Created wheel for python-multipart: filename=python_multipart-0.0.5-py3-none-any.whl size=31678 sha256=1877388e51a85dc4a815b78d818282dab38b18f74427f1fd268aaff6f1535d54\n",
            "  Stored in directory: /root/.cache/pip/wheels/2c/41/7c/bfd1c180534ffdcc0972f78c5758f89881602175d48a8bcd2c\n",
            "  Building wheel for pyngrok (setup.py) ... \u001b[?25l\u001b[?25hdone\n",
            "  Created wheel for pyngrok: filename=pyngrok-5.1.0-py3-none-any.whl size=19007 sha256=69e7fc678b14d25dec14bc7b15562f0e081c5c2b729af51ba46f78a3043e4991\n",
            "  Stored in directory: /root/.cache/pip/wheels/bf/e6/af/ccf6598ecefecd44104069371795cb9b3afbcd16987f6ccfb3\n",
            "Successfully built python-multipart pyngrok\n",
            "Installing collected packages: sniffio, anyio, starlette, PyYAML, h11, uvicorn, python-multipart, pyngrok, fastapi\n",
            "  Attempting uninstall: PyYAML\n",
            "    Found existing installation: PyYAML 3.13\n",
            "    Uninstalling PyYAML-3.13:\n",
            "      Successfully uninstalled PyYAML-3.13\n",
            "Successfully installed PyYAML-6.0 anyio-3.6.1 fastapi-0.79.0 h11-0.13.0 pyngrok-5.1.0 python-multipart-0.0.5 sniffio-1.2.0 starlette-0.19.1 uvicorn-0.18.2\n"
          ]
        }
      ]
    },
    {
      "cell_type": "code",
      "source": [
        "!python fast_api_call.py"
      ],
      "metadata": {
        "colab": {
          "base_uri": "https://localhost:8080/"
        },
        "id": "iPVKXRuGPI12",
        "outputId": "5f43aaee-c089-435c-e62c-83577e383af0"
      },
      "execution_count": 7,
      "outputs": [
        {
          "output_type": "stream",
          "name": "stdout",
          "text": [
            "Opening tunnel named: http-8000-6de9a328-567e-43fd-b761-57745a40e5ea\n",
            "t=2022-08-06T08:41:01+0000 lvl=info msg=\"no configuration paths supplied\"\n",
            "t=2022-08-06T08:41:01+0000 lvl=info msg=\"using configuration at default config path\" path=/root/.ngrok2/ngrok.yml\n",
            "t=2022-08-06T08:41:01+0000 lvl=info msg=\"open config file\" path=/root/.ngrok2/ngrok.yml err=nil\n",
            "t=2022-08-06T08:41:01+0000 lvl=info msg=\"starting web service\" obj=web addr=127.0.0.1:4040\n",
            "t=2022-08-06T08:41:02+0000 lvl=info msg=\"tunnel session started\" obj=tunnels.session\n",
            "t=2022-08-06T08:41:02+0000 lvl=info msg=\"client session established\" obj=csess id=dcb8cb8194df\n",
            "t=2022-08-06T08:41:02+0000 lvl=info msg=start pg=/api/tunnels id=d66833dd1db1a2be\n",
            "t=2022-08-06T08:41:02+0000 lvl=info msg=end pg=/api/tunnels id=d66833dd1db1a2be status=200 dur=296.54µs\n",
            "t=2022-08-06T08:41:02+0000 lvl=info msg=start pg=/api/tunnels id=7a13befc051f4ad5\n",
            "t=2022-08-06T08:41:02+0000 lvl=info msg=end pg=/api/tunnels id=7a13befc051f4ad5 status=200 dur=106.092µs\n",
            "t=2022-08-06T08:41:02+0000 lvl=info msg=start pg=/api/tunnels id=8b825af382b65cb9\n",
            "t=2022-08-06T08:41:03+0000 lvl=info msg=\"started tunnel\" obj=tunnels name=\"http-8000-6de9a328-567e-43fd-b761-57745a40e5ea (http)\" addr=http://localhost:8000 url=http://81e0-34-143-192-2.ngrok.io\n",
            "Public URL: http://81e0-34-143-192-2.ngrok.io\n",
            "t=2022-08-06T08:41:03+0000 lvl=info msg=\"started tunnel\" obj=tunnels name=http-8000-6de9a328-567e-43fd-b761-57745a40e5ea addr=http://localhost:8000 url=https://81e0-34-143-192-2.ngrok.io\n",
            "t=2022-08-06T08:41:03+0000 lvl=info msg=end pg=/api/tunnels id=8b825af382b65cb9 status=201 dur=485.004963ms\n",
            "t=2022-08-06T08:41:03+0000 lvl=info msg=start pg=\"/api/tunnels/http-8000-6de9a328-567e-43fd-b761-57745a40e5ea (http)\" id=60a79ae72feedf8b\n",
            "t=2022-08-06T08:41:03+0000 lvl=info msg=end pg=\"/api/tunnels/http-8000-6de9a328-567e-43fd-b761-57745a40e5ea (http)\" id=60a79ae72feedf8b status=200 dur=171.512µs\n",
            "\u001b[32mINFO\u001b[0m:     Started server process [\u001b[36m222\u001b[0m]\n",
            "Started server process [222]\n",
            "\u001b[32mINFO\u001b[0m:     Waiting for application startup.\n",
            "Waiting for application startup.\n",
            "\u001b[32mINFO\u001b[0m:     Application startup complete.\n",
            "Application startup complete.\n",
            "\u001b[32mINFO\u001b[0m:     Uvicorn running on \u001b[1mhttp://0.0.0.0:8000\u001b[0m (Press CTRL+C to quit)\n",
            "Uvicorn running on http://0.0.0.0:8000 (Press CTRL+C to quit)\n",
            "t=2022-08-06T08:41:16+0000 lvl=info msg=\"join connections\" obj=join id=7376f31c41bb l=127.0.0.1:8000 r=116.74.133.134:49944\n",
            "all40.png <class 'str'>\n",
            "<class 'pathlib.PosixPath'>\n",
            "YOLOv5 🚀 7b7c0d5 Python-3.7.13 torch-1.12.0+cu113 CUDA:0 (Tesla T4, 15110MiB)\n",
            "\n",
            "Fusing layers... \n",
            "Model summary: 213 layers, 7012822 parameters, 0 gradients\n",
            "image 1/1 /content/object_detection_allianz_logo/object_detection_allianz_logo/inference_images/all40.png: 352x640 1 allianz, Done. (0.012s)\n",
            "Speed: 0.5ms pre-process, 12.1ms inference, 40.4ms NMS per image at shape (1, 3, 640, 640)\n",
            "Results saved to \u001b[1mresults\u001b[0m\n",
            "\u001b[32mINFO\u001b[0m:     116.74.133.134:0 - \"\u001b[1mPOST /upload HTTP/1.1\u001b[0m\" \u001b[32m200 OK\u001b[0m\n",
            "t=2022-08-06T08:41:39+0000 lvl=info msg=\"join connections\" obj=join id=7e1a4dfc9a9c l=127.0.0.1:8000 r=116.74.133.134:49944\n",
            "all8.jpg <class 'str'>\n",
            "<class 'pathlib.PosixPath'>\n",
            "YOLOv5 🚀 7b7c0d5 Python-3.7.13 torch-1.12.0+cu113 CUDA:0 (Tesla T4, 15110MiB)\n",
            "\n",
            "Fusing layers... \n",
            "Model summary: 213 layers, 7012822 parameters, 0 gradients\n",
            "image 1/1 /content/object_detection_allianz_logo/object_detection_allianz_logo/inference_images/all8.jpg: 160x640 2 allianzs, Done. (0.011s)\n",
            "Speed: 0.3ms pre-process, 10.9ms inference, 1.0ms NMS per image at shape (1, 3, 640, 640)\n",
            "Results saved to \u001b[1mresults\u001b[0m\n",
            "\u001b[32mINFO\u001b[0m:     116.74.133.134:0 - \"\u001b[1mPOST /upload HTTP/1.1\u001b[0m\" \u001b[32m200 OK\u001b[0m\n",
            "t=2022-08-06T08:41:58+0000 lvl=info msg=\"join connections\" obj=join id=24c78f5080f0 l=127.0.0.1:8000 r=116.74.133.134:49944\n",
            "all9.png <class 'str'>\n",
            "<class 'pathlib.PosixPath'>\n",
            "YOLOv5 🚀 7b7c0d5 Python-3.7.13 torch-1.12.0+cu113 CUDA:0 (Tesla T4, 15110MiB)\n",
            "\n",
            "Fusing layers... \n",
            "Model summary: 213 layers, 7012822 parameters, 0 gradients\n",
            "image 1/1 /content/object_detection_allianz_logo/object_detection_allianz_logo/inference_images/all9.png: 480x640 1 allianz, Done. (0.020s)\n",
            "Speed: 0.5ms pre-process, 20.0ms inference, 1.4ms NMS per image at shape (1, 3, 640, 640)\n",
            "Results saved to \u001b[1mresults\u001b[0m\n",
            "\u001b[32mINFO\u001b[0m:     116.74.133.134:0 - \"\u001b[1mPOST /upload HTTP/1.1\u001b[0m\" \u001b[32m200 OK\u001b[0m\n",
            "t=2022-08-06T08:42:12+0000 lvl=info msg=\"join connections\" obj=join id=b93da4069dd8 l=127.0.0.1:8000 r=116.74.133.134:49944\n",
            "all15.jfif <class 'str'>\n",
            "<class 'pathlib.PosixPath'>\n",
            "YOLOv5 🚀 7b7c0d5 Python-3.7.13 torch-1.12.0+cu113 CUDA:0 (Tesla T4, 15110MiB)\n",
            "\n",
            "Fusing layers... \n",
            "Model summary: 213 layers, 7012822 parameters, 0 gradients\n",
            "No images or videos found in /content/object_detection_allianz_logo/object_detection_allianz_logo/inference_images/all15.jfif. Supported formats are:\n",
            "images: ('bmp', 'dng', 'jpeg', 'jpg', 'mpo', 'png', 'tif', 'tiff', 'webp')\n",
            "videos: ('asf', 'avi', 'gif', 'm4v', 'mkv', 'mov', 'mp4', 'mpeg', 'mpg', 'ts', 'wmv')\n",
            "\u001b[32mINFO\u001b[0m:     116.74.133.134:0 - \"\u001b[1mPOST /upload HTTP/1.1\u001b[0m\" \u001b[32m200 OK\u001b[0m\n",
            "t=2022-08-06T08:42:36+0000 lvl=info msg=\"join connections\" obj=join id=b3f81af10cc7 l=127.0.0.1:8000 r=116.74.133.134:49944\n",
            "all30_0_noise.jpeg <class 'str'>\n",
            "<class 'pathlib.PosixPath'>\n",
            "YOLOv5 🚀 7b7c0d5 Python-3.7.13 torch-1.12.0+cu113 CUDA:0 (Tesla T4, 15110MiB)\n",
            "\n",
            "Fusing layers... \n",
            "Model summary: 213 layers, 7012822 parameters, 0 gradients\n",
            "image 1/1 /content/object_detection_allianz_logo/object_detection_allianz_logo/inference_images/all30_0_noise.jpeg: 448x640 1 allianz, Done. (0.012s)\n",
            "Speed: 0.5ms pre-process, 12.2ms inference, 1.0ms NMS per image at shape (1, 3, 640, 640)\n",
            "Results saved to \u001b[1mresults\u001b[0m\n",
            "\u001b[32mINFO\u001b[0m:     116.74.133.134:0 - \"\u001b[1mPOST /upload HTTP/1.1\u001b[0m\" \u001b[32m200 OK\u001b[0m\n",
            "t=2022-08-06T08:42:55+0000 lvl=info msg=\"join connections\" obj=join id=2d6cf137df29 l=127.0.0.1:8000 r=116.74.133.134:49944\n",
            "all22.png <class 'str'>\n",
            "<class 'pathlib.PosixPath'>\n",
            "YOLOv5 🚀 7b7c0d5 Python-3.7.13 torch-1.12.0+cu113 CUDA:0 (Tesla T4, 15110MiB)\n",
            "\n",
            "Fusing layers... \n",
            "Model summary: 213 layers, 7012822 parameters, 0 gradients\n",
            "image 1/1 /content/object_detection_allianz_logo/object_detection_allianz_logo/inference_images/all22.png: 384x640 1 allianz, Done. (0.014s)\n",
            "Speed: 0.5ms pre-process, 14.0ms inference, 1.1ms NMS per image at shape (1, 3, 640, 640)\n",
            "Results saved to \u001b[1mresults\u001b[0m\n",
            "\u001b[32mINFO\u001b[0m:     116.74.133.134:0 - \"\u001b[1mPOST /upload HTTP/1.1\u001b[0m\" \u001b[32m200 OK\u001b[0m\n",
            "t=2022-08-06T08:43:17+0000 lvl=info msg=\"received stop request\" obj=app stopReq=\"{err:<nil> restart:false}\"\n",
            "t=2022-08-06T08:43:17+0000 lvl=info msg=\"session closing\" obj=tunnels.session err=nil\n",
            "\u001b[32mINFO\u001b[0m:     Shutting down\n",
            "Shutting down\n",
            "\u001b[32mINFO\u001b[0m:     Waiting for application shutdown.\n",
            "Waiting for application shutdown.\n",
            "\u001b[32mINFO\u001b[0m:     Application shutdown complete.\n",
            "Application shutdown complete.\n",
            "\u001b[32mINFO\u001b[0m:     Finished server process [\u001b[36m222\u001b[0m]\n",
            "Finished server process [222]\n"
          ]
        }
      ]
    }
  ]
}